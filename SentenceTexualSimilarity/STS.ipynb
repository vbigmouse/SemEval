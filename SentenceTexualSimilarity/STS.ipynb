{
 "cells": [
  {
   "cell_type": "code",
   "execution_count": 1,
   "metadata": {
    "collapsed": true
   },
   "outputs": [],
   "source": [
    "%matplotlib inline\n",
    "\n",
    "from random import randint\n",
    "import matplotlib\n",
    "import numpy as np\n",
    "import torch"
   ]
  },
  {
   "cell_type": "code",
   "execution_count": 10,
   "metadata": {},
   "outputs": [
    {
     "name": "stderr",
     "output_type": "stream",
     "text": [
      "C:\\Users\\vbigm\\Anaconda3\\lib\\site-packages\\torch\\serialization.py:286: SourceChangeWarning: source code of class 'models.BLSTMEncoder' has changed. you can retrieve the original source code by accessing the object's source attribute or set `torch.nn.Module.dump_patches = True` and use the patch tool to revert the changes.\n",
      "  warnings.warn(msg, SourceChangeWarning)\n"
     ]
    }
   ],
   "source": [
    "# load pre-trained model\n",
    "# on GPU (encoding ~1000 sentences/s, default)\n",
    "model = torch.load('..//SentenceEmbedding/infersent.allnli.pickle')\n",
    "# on CPU (~40 sentences/s)\n",
    "# model = torch.load('infersent.allnli.pickle', map_location=lambda storage, loc: storage)"
   ]
  },
  {
   "cell_type": "code",
   "execution_count": 11,
   "metadata": {},
   "outputs": [
    {
     "name": "stdout",
     "output_type": "stream",
     "text": [
      "Vocab size : 100000\n"
     ]
    }
   ],
   "source": [
    "# set path to word vectors from glove\n",
    "GLOVE_PATH = 'D:/DataSet/NLP_GLOVE/Pre-Trained Vectors/glove840B300d/glove.840B.300d.txt'\n",
    "#GLOVE_PATH = '../SemEval/glove_6B_50d.txt'\n",
    "model.set_glove_path(GLOVE_PATH)\n",
    "\n",
    "# load the K most common english words\n",
    "model.build_vocab_k_words(K=100000)"
   ]
  },
  {
   "cell_type": "code",
   "execution_count": 12,
   "metadata": {},
   "outputs": [
    {
     "name": "stdout",
     "output_type": "stream",
     "text": [
      "250\n"
     ]
    }
   ],
   "source": [
    "# Load input\n",
    "sentences = []\n",
    "with open('STS.input.track5.en-en.txt', encoding=\"utf-8\") as f:\n",
    "    for line in f:\n",
    "        sentences.append(line.strip())\n",
    "print(len(sentences))"
   ]
  },
  {
   "cell_type": "code",
   "execution_count": 29,
   "metadata": {},
   "outputs": [],
   "source": [
    "sent1 = []\n",
    "sent2 = []\n",
    "for line in sentences:\n",
    "    [s1, s2] = line.split(\"\\t\")\n",
    "    sent1.append(s1)\n",
    "    sent2.append(s2)"
   ]
  },
  {
   "cell_type": "code",
   "execution_count": 40,
   "metadata": {},
   "outputs": [
    {
     "data": {
      "text/plain": [
       "[('A person is on a baseball team.',\n",
       "  'A person is playing basketball on a team.'),\n",
       " ('Our current vehicles will be in museums when everyone has their own aircraft.',\n",
       "  'The car needs to some work'),\n",
       " ('A woman supervisor is instructing the male workers.',\n",
       "  'A woman is working as a nurse.'),\n",
       " ('A bike is next to a couple women.', 'A child next to a bike.'),\n",
       " ('The group is eating while taking in a breathtaking view.',\n",
       "  'A group of people take a look at an unusual tree.')]"
      ]
     },
     "execution_count": 40,
     "metadata": {},
     "output_type": "execute_result"
    }
   ],
   "source": [
    "list(zip(sent1[:5],sent2[:5]))"
   ]
  },
  {
   "cell_type": "code",
   "execution_count": 47,
   "metadata": {},
   "outputs": [
    {
     "data": {
      "text/plain": [
       "250"
      ]
     },
     "execution_count": 47,
     "metadata": {},
     "output_type": "execute_result"
    }
   ],
   "source": [
    "len(sent1)"
   ]
  },
  {
   "cell_type": "code",
   "execution_count": 43,
   "metadata": {},
   "outputs": [
    {
     "name": "stdout",
     "output_type": "stream",
     "text": [
      "Nb words kept : 2446/2668 (91.68 %)\n"
     ]
    },
    {
     "name": "stderr",
     "output_type": "stream",
     "text": [
      "C:\\Users\\vbigm\\Dropbox\\Course Stony Brook\\17 Fall\\CSE593 Independent Study\\Jason\\SentenceTexualSimilarity\\models.py:53: UserWarning: RNN module weights are not part of single contiguous chunk of memory. This means they need to be compacted at every call, possibly greately increasing memory usage. To compact weights again call flatten_parameters().\n",
      "  sent_output = self.enc_lstm(sent_packed)[0]  # seqlen x batch x 2*nhid\n"
     ]
    },
    {
     "name": "stdout",
     "output_type": "stream",
     "text": [
      "Speed : 836.48 sentences/s (gpu mode, bsize=128)\n",
      "Nb words kept : 2446/2682 (91.2 %)\n",
      "Speed : 892.27 sentences/s (gpu mode, bsize=128)\n"
     ]
    }
   ],
   "source": [
    "embeddings1 = model.encode(sent1, bsize=128, tokenize=False, verbose=True)\n",
    "embeddings2 = model.encode(sent2, bsize=128, tokenize=False, verbose=True)"
   ]
  },
  {
   "cell_type": "code",
   "execution_count": 57,
   "metadata": {},
   "outputs": [
    {
     "name": "stdout",
     "output_type": "stream",
     "text": [
      "(250, 4096)\n",
      "(250, 4096)\n"
     ]
    }
   ],
   "source": [
    "print(embeddings1.shape)\n",
    "print(embeddings2.shape)"
   ]
  },
  {
   "cell_type": "code",
   "execution_count": 48,
   "metadata": {
    "collapsed": true
   },
   "outputs": [],
   "source": [
    "def cosine(u, v):\n",
    "    return np.dot(u, v) / (np.linalg.norm(u) * np.linalg.norm(v))"
   ]
  },
  {
   "cell_type": "code",
   "execution_count": 53,
   "metadata": {
    "collapsed": true
   },
   "outputs": [],
   "source": [
    "def similarity(s1, s2):\n",
    "    return np.nan_to_num(cosine(np.nan_to_num(s1), np.nan_to_num(s2)))"
   ]
  },
  {
   "cell_type": "code",
   "execution_count": 62,
   "metadata": {},
   "outputs": [],
   "source": [
    "similar = [ similarity(embeddings1[i], embeddings2[i]) for i in range(len(embeddings1))]"
   ]
  },
  {
   "cell_type": "code",
   "execution_count": 68,
   "metadata": {},
   "outputs": [
    {
     "name": "stdout",
     "output_type": "stream",
     "text": [
      "250\n"
     ]
    },
    {
     "data": {
      "text/plain": [
       "[0.8024776, 0.67585117, 0.75681674, 0.59188825, 0.68153501]"
      ]
     },
     "execution_count": 68,
     "metadata": {},
     "output_type": "execute_result"
    }
   ],
   "source": [
    "print(len(similar))\n",
    "similar[:5]"
   ]
  },
  {
   "cell_type": "code",
   "execution_count": 64,
   "metadata": {
    "collapsed": true
   },
   "outputs": [],
   "source": [
    "from scipy.stats import spearmanr, pearsonr"
   ]
  },
  {
   "cell_type": "code",
   "execution_count": 76,
   "metadata": {},
   "outputs": [
    {
     "name": "stdout",
     "output_type": "stream",
     "text": [
      "250\n"
     ]
    }
   ],
   "source": [
    "# Load gold standard\n",
    "gs = []\n",
    "with open('STS.gs.track5.en-en.txt', encoding=\"utf-8\") as f:\n",
    "    for line in f:\n",
    "        gs.append(float(line.strip()))\n",
    "print(len(gs))"
   ]
  },
  {
   "cell_type": "code",
   "execution_count": 77,
   "metadata": {},
   "outputs": [
    {
     "data": {
      "text/plain": [
       "(0.63042565601845013, 4.1917590051526955e-29)"
      ]
     },
     "execution_count": 77,
     "metadata": {},
     "output_type": "execute_result"
    }
   ],
   "source": [
    "pearsonr(similar, gs)"
   ]
  },
  {
   "cell_type": "code",
   "execution_count": 78,
   "metadata": {},
   "outputs": [
    {
     "data": {
      "text/plain": [
       "array([[ 1.        ,  0.63042568],\n",
       "       [ 0.63042568,  1.        ]])"
      ]
     },
     "execution_count": 78,
     "metadata": {},
     "output_type": "execute_result"
    }
   ],
   "source": [
    "np.corrcoef(gs, similar)"
   ]
  },
  {
   "cell_type": "code",
   "execution_count": null,
   "metadata": {
    "collapsed": true
   },
   "outputs": [],
   "source": []
  },
  {
   "cell_type": "code",
   "execution_count": null,
   "metadata": {
    "collapsed": true
   },
   "outputs": [],
   "source": []
  },
  {
   "cell_type": "code",
   "execution_count": null,
   "metadata": {
    "collapsed": true
   },
   "outputs": [],
   "source": []
  }
 ],
 "metadata": {
  "kernelspec": {
   "display_name": "Python 3",
   "language": "python",
   "name": "python3"
  },
  "language_info": {
   "codemirror_mode": {
    "name": "ipython",
    "version": 3
   },
   "file_extension": ".py",
   "mimetype": "text/x-python",
   "name": "python",
   "nbconvert_exporter": "python",
   "pygments_lexer": "ipython3",
   "version": "3.6.2"
  }
 },
 "nbformat": 4,
 "nbformat_minor": 2
}
